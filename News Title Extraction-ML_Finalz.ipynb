{
 "cells": [
  {
   "cell_type": "code",
   "execution_count": 1,
   "metadata": {},
   "outputs": [
    {
     "name": "stdout",
     "output_type": "stream",
     "text": [
      "C:\\Users\\user\\Desktop\\Data Scientist\n"
     ]
    }
   ],
   "source": [
    "import pandas as pd\n",
    "import numpy as np\n",
    "from nltk.tokenize import word_tokenize\n",
    "from nltk.util import ngrams\n",
    "import nltk\n",
    "import matplotlib.pyplot as plt\n",
    "import re\n",
    "import sys\n",
    "import os\n",
    "import seaborn as sns\n",
    "print(os.getcwd())   # Prints the current working directory"
   ]
  },
  {
   "cell_type": "code",
   "execution_count": 2,
   "metadata": {},
   "outputs": [
    {
     "name": "stderr",
     "output_type": "stream",
     "text": [
      "[nltk_data] Downloading package stopwords to\n",
      "[nltk_data]     C:\\Users\\user\\AppData\\Roaming\\nltk_data...\n",
      "[nltk_data]   Package stopwords is already up-to-date!\n"
     ]
    }
   ],
   "source": [
    "import nltk\n",
    "from nltk.corpus import stopwords  #Stop words\n",
    "nltk.download('stopwords');\n",
    "stop = stopwords.words('english')\n",
    "from nltk.tokenize import word_tokenize  #tokenize\n",
    "\n",
    "from nltk.stem import PorterStemmer \n",
    "ps = PorterStemmer()"
   ]
  },
  {
   "cell_type": "code",
   "execution_count": 3,
   "metadata": {},
   "outputs": [],
   "source": [
    "# Provide the new path here\n",
    "\n",
    "df = pd.read_excel('News Title.xls')\n",
    "df = df[[\"News Title\", \"Category\"]]"
   ]
  },
  {
   "cell_type": "code",
   "execution_count": 4,
   "metadata": {},
   "outputs": [
    {
     "data": {
      "text/html": [
       "<div>\n",
       "<style scoped>\n",
       "    .dataframe tbody tr th:only-of-type {\n",
       "        vertical-align: middle;\n",
       "    }\n",
       "\n",
       "    .dataframe tbody tr th {\n",
       "        vertical-align: top;\n",
       "    }\n",
       "\n",
       "    .dataframe thead th {\n",
       "        text-align: right;\n",
       "    }\n",
       "</style>\n",
       "<table border=\"1\" class=\"dataframe\">\n",
       "  <thead>\n",
       "    <tr style=\"text-align: right;\">\n",
       "      <th></th>\n",
       "      <th>News Title</th>\n",
       "      <th>Category</th>\n",
       "    </tr>\n",
       "  </thead>\n",
       "  <tbody>\n",
       "    <tr>\n",
       "      <th>0</th>\n",
       "      <td>Google+ rolls out 'Stories' for tricked out ph...</td>\n",
       "      <td>Technology</td>\n",
       "    </tr>\n",
       "    <tr>\n",
       "      <th>1</th>\n",
       "      <td>Dov Charney's Redeeming Quality</td>\n",
       "      <td>Business</td>\n",
       "    </tr>\n",
       "    <tr>\n",
       "      <th>2</th>\n",
       "      <td>White God adds Un Certain Regard to the Palm Dog</td>\n",
       "      <td>Entertainment</td>\n",
       "    </tr>\n",
       "    <tr>\n",
       "      <th>3</th>\n",
       "      <td>Google shows off Androids for wearables, cars,...</td>\n",
       "      <td>Technology</td>\n",
       "    </tr>\n",
       "    <tr>\n",
       "      <th>4</th>\n",
       "      <td>China May new bank loans at 870.8 bln yuan</td>\n",
       "      <td>Business</td>\n",
       "    </tr>\n",
       "  </tbody>\n",
       "</table>\n",
       "</div>"
      ],
      "text/plain": [
       "                                          News Title       Category\n",
       "0  Google+ rolls out 'Stories' for tricked out ph...     Technology\n",
       "1                    Dov Charney's Redeeming Quality       Business\n",
       "2   White God adds Un Certain Regard to the Palm Dog  Entertainment\n",
       "3  Google shows off Androids for wearables, cars,...     Technology\n",
       "4         China May new bank loans at 870.8 bln yuan       Business"
      ]
     },
     "execution_count": 4,
     "metadata": {},
     "output_type": "execute_result"
    }
   ],
   "source": [
    "df.head(5)"
   ]
  },
  {
   "cell_type": "code",
   "execution_count": 5,
   "metadata": {},
   "outputs": [],
   "source": [
    "def stemming(sentence):\n",
    "    count1 = 0\n",
    "    stem_sentence = []\n",
    "    for g in sentence:\n",
    "        count1 = count1 + 1 ##List \n",
    "        stem_sentence.insert(count1, ps.stem(g))\n",
    "    return stem_sentence"
   ]
  },
  {
   "cell_type": "code",
   "execution_count": 6,
   "metadata": {},
   "outputs": [],
   "source": [
    "##Preprocessing \n",
    "df['News Title'] = df['News Title'].map(lambda x: re.sub(r'[^A-Za-z0-9]+', ' ', x))        # remove special character including emoji\n",
    "df['News Title'] = df['News Title'].str.lstrip()                                           # remove whitespace,newline,tab,basically everything from the start of string\n",
    "df['News Title'] = df['News Title'].str.rstrip()                                           # remove whitespace,newline,tab,basically everything from the end of string\n",
    "df['News Title'] = df['News Title'].str.lower()                                            # lowercase\n",
    "\n",
    "##Stopword\n",
    "df['News Title'] = df['News Title'].apply(lambda x: ' '.join([word for word in x.split() if word not in (stop)]))\n",
    "\n",
    "## Tokenize + Stemming + convert to list again\n",
    "df['News Title2'] = df['News Title'].apply(lambda x : word_tokenize(x))\n",
    "df['News Title3'] = df['News Title2'].apply(lambda x : stemming(x))\n",
    "df['News Title4'] = df['News Title3'].apply(lambda x :  \" \".join(x))"
   ]
  },
  {
   "cell_type": "code",
   "execution_count": 7,
   "metadata": {},
   "outputs": [],
   "source": [
    "df.to_csv('result_prepro_news_title.csv')"
   ]
  },
  {
   "cell_type": "code",
   "execution_count": 8,
   "metadata": {},
   "outputs": [
    {
     "data": {
      "text/html": [
       "<div>\n",
       "<style scoped>\n",
       "    .dataframe tbody tr th:only-of-type {\n",
       "        vertical-align: middle;\n",
       "    }\n",
       "\n",
       "    .dataframe tbody tr th {\n",
       "        vertical-align: top;\n",
       "    }\n",
       "\n",
       "    .dataframe thead th {\n",
       "        text-align: right;\n",
       "    }\n",
       "</style>\n",
       "<table border=\"1\" class=\"dataframe\">\n",
       "  <thead>\n",
       "    <tr style=\"text-align: right;\">\n",
       "      <th></th>\n",
       "      <th>News Title</th>\n",
       "      <th>Category</th>\n",
       "      <th>News Title2</th>\n",
       "      <th>News Title3</th>\n",
       "      <th>News Title4</th>\n",
       "    </tr>\n",
       "  </thead>\n",
       "  <tbody>\n",
       "    <tr>\n",
       "      <th>0</th>\n",
       "      <td>google rolls stories tricked photo playback</td>\n",
       "      <td>Technology</td>\n",
       "      <td>[google, rolls, stories, tricked, photo, playb...</td>\n",
       "      <td>[googl, roll, stori, trick, photo, playback]</td>\n",
       "      <td>googl roll stori trick photo playback</td>\n",
       "    </tr>\n",
       "    <tr>\n",
       "      <th>1</th>\n",
       "      <td>dov charney redeeming quality</td>\n",
       "      <td>Business</td>\n",
       "      <td>[dov, charney, redeeming, quality]</td>\n",
       "      <td>[dov, charney, redeem, qualiti]</td>\n",
       "      <td>dov charney redeem qualiti</td>\n",
       "    </tr>\n",
       "    <tr>\n",
       "      <th>2</th>\n",
       "      <td>white god adds un certain regard palm dog</td>\n",
       "      <td>Entertainment</td>\n",
       "      <td>[white, god, adds, un, certain, regard, palm, ...</td>\n",
       "      <td>[white, god, add, un, certain, regard, palm, dog]</td>\n",
       "      <td>white god add un certain regard palm dog</td>\n",
       "    </tr>\n",
       "    <tr>\n",
       "      <th>3</th>\n",
       "      <td>google shows androids wearables cars tvs</td>\n",
       "      <td>Technology</td>\n",
       "      <td>[google, shows, androids, wearables, cars, tvs]</td>\n",
       "      <td>[googl, show, android, wearabl, car, tv]</td>\n",
       "      <td>googl show android wearabl car tv</td>\n",
       "    </tr>\n",
       "    <tr>\n",
       "      <th>4</th>\n",
       "      <td>china may new bank loans 870 8 bln yuan</td>\n",
       "      <td>Business</td>\n",
       "      <td>[china, may, new, bank, loans, 870, 8, bln, yuan]</td>\n",
       "      <td>[china, may, new, bank, loan, 870, 8, bln, yuan]</td>\n",
       "      <td>china may new bank loan 870 8 bln yuan</td>\n",
       "    </tr>\n",
       "  </tbody>\n",
       "</table>\n",
       "</div>"
      ],
      "text/plain": [
       "                                    News Title       Category  \\\n",
       "0  google rolls stories tricked photo playback     Technology   \n",
       "1                dov charney redeeming quality       Business   \n",
       "2    white god adds un certain regard palm dog  Entertainment   \n",
       "3     google shows androids wearables cars tvs     Technology   \n",
       "4      china may new bank loans 870 8 bln yuan       Business   \n",
       "\n",
       "                                         News Title2  \\\n",
       "0  [google, rolls, stories, tricked, photo, playb...   \n",
       "1                 [dov, charney, redeeming, quality]   \n",
       "2  [white, god, adds, un, certain, regard, palm, ...   \n",
       "3    [google, shows, androids, wearables, cars, tvs]   \n",
       "4  [china, may, new, bank, loans, 870, 8, bln, yuan]   \n",
       "\n",
       "                                         News Title3  \\\n",
       "0       [googl, roll, stori, trick, photo, playback]   \n",
       "1                    [dov, charney, redeem, qualiti]   \n",
       "2  [white, god, add, un, certain, regard, palm, dog]   \n",
       "3           [googl, show, android, wearabl, car, tv]   \n",
       "4   [china, may, new, bank, loan, 870, 8, bln, yuan]   \n",
       "\n",
       "                                News Title4  \n",
       "0     googl roll stori trick photo playback  \n",
       "1                dov charney redeem qualiti  \n",
       "2  white god add un certain regard palm dog  \n",
       "3         googl show android wearabl car tv  \n",
       "4    china may new bank loan 870 8 bln yuan  "
      ]
     },
     "execution_count": 8,
     "metadata": {},
     "output_type": "execute_result"
    }
   ],
   "source": [
    "df.head(5)"
   ]
  },
  {
   "cell_type": "code",
   "execution_count": 9,
   "metadata": {},
   "outputs": [],
   "source": [
    "#TF-IDF Methods (Uni-gram)"
   ]
  },
  {
   "cell_type": "code",
   "execution_count": 10,
   "metadata": {},
   "outputs": [],
   "source": [
    "from sklearn.feature_extraction.text import TfidfVectorizer\n",
    "\n",
    "tfidf_unigram = TfidfVectorizer(ngram_range=(1,1)) \n"
   ]
  },
  {
   "cell_type": "code",
   "execution_count": 11,
   "metadata": {},
   "outputs": [],
   "source": [
    "vectors_unigram = tfidf_unigram.fit_transform(df['News Title4'].values.astype('U'))\n"
   ]
  },
  {
   "cell_type": "code",
   "execution_count": 12,
   "metadata": {},
   "outputs": [
    {
     "name": "stdout",
     "output_type": "stream",
     "text": [
      "20023\n"
     ]
    }
   ],
   "source": [
    "feature_names_unigram = tfidf_unigram.get_feature_names()\n",
    "print(len(feature_names_unigram))\n"
   ]
  },
  {
   "cell_type": "code",
   "execution_count": 13,
   "metadata": {},
   "outputs": [],
   "source": [
    "def category_to_integer(category) :\n",
    "    if(category == \"Business\"):\n",
    "        return 0\n",
    "    elif(category == \"Entertainment\"):\n",
    "        return 1\n",
    "    elif(category == \"Medical\"):\n",
    "        return 2    \n",
    "    elif(category == \"Technology\"):\n",
    "        return 3"
   ]
  },
  {
   "cell_type": "code",
   "execution_count": 15,
   "metadata": {},
   "outputs": [],
   "source": [
    "# Creating Multi label Class\n",
    "\n",
    "df['Class3'] = df['Category'].apply(lambda x: category_to_integer(x))\n",
    "output = df['Class3'].to_numpy()"
   ]
  },
  {
   "cell_type": "code",
   "execution_count": 16,
   "metadata": {},
   "outputs": [
    {
     "data": {
      "text/html": [
       "<div>\n",
       "<style scoped>\n",
       "    .dataframe tbody tr th:only-of-type {\n",
       "        vertical-align: middle;\n",
       "    }\n",
       "\n",
       "    .dataframe tbody tr th {\n",
       "        vertical-align: top;\n",
       "    }\n",
       "\n",
       "    .dataframe thead th {\n",
       "        text-align: right;\n",
       "    }\n",
       "</style>\n",
       "<table border=\"1\" class=\"dataframe\">\n",
       "  <thead>\n",
       "    <tr style=\"text-align: right;\">\n",
       "      <th></th>\n",
       "      <th>News Title</th>\n",
       "      <th>Category</th>\n",
       "      <th>News Title2</th>\n",
       "      <th>News Title3</th>\n",
       "      <th>News Title4</th>\n",
       "      <th>Class3</th>\n",
       "    </tr>\n",
       "  </thead>\n",
       "  <tbody>\n",
       "    <tr>\n",
       "      <th>0</th>\n",
       "      <td>google rolls stories tricked photo playback</td>\n",
       "      <td>Technology</td>\n",
       "      <td>[google, rolls, stories, tricked, photo, playb...</td>\n",
       "      <td>[googl, roll, stori, trick, photo, playback]</td>\n",
       "      <td>googl roll stori trick photo playback</td>\n",
       "      <td>3</td>\n",
       "    </tr>\n",
       "    <tr>\n",
       "      <th>1</th>\n",
       "      <td>dov charney redeeming quality</td>\n",
       "      <td>Business</td>\n",
       "      <td>[dov, charney, redeeming, quality]</td>\n",
       "      <td>[dov, charney, redeem, qualiti]</td>\n",
       "      <td>dov charney redeem qualiti</td>\n",
       "      <td>0</td>\n",
       "    </tr>\n",
       "    <tr>\n",
       "      <th>2</th>\n",
       "      <td>white god adds un certain regard palm dog</td>\n",
       "      <td>Entertainment</td>\n",
       "      <td>[white, god, adds, un, certain, regard, palm, ...</td>\n",
       "      <td>[white, god, add, un, certain, regard, palm, dog]</td>\n",
       "      <td>white god add un certain regard palm dog</td>\n",
       "      <td>1</td>\n",
       "    </tr>\n",
       "    <tr>\n",
       "      <th>3</th>\n",
       "      <td>google shows androids wearables cars tvs</td>\n",
       "      <td>Technology</td>\n",
       "      <td>[google, shows, androids, wearables, cars, tvs]</td>\n",
       "      <td>[googl, show, android, wearabl, car, tv]</td>\n",
       "      <td>googl show android wearabl car tv</td>\n",
       "      <td>3</td>\n",
       "    </tr>\n",
       "    <tr>\n",
       "      <th>4</th>\n",
       "      <td>china may new bank loans 870 8 bln yuan</td>\n",
       "      <td>Business</td>\n",
       "      <td>[china, may, new, bank, loans, 870, 8, bln, yuan]</td>\n",
       "      <td>[china, may, new, bank, loan, 870, 8, bln, yuan]</td>\n",
       "      <td>china may new bank loan 870 8 bln yuan</td>\n",
       "      <td>0</td>\n",
       "    </tr>\n",
       "  </tbody>\n",
       "</table>\n",
       "</div>"
      ],
      "text/plain": [
       "                                    News Title       Category  \\\n",
       "0  google rolls stories tricked photo playback     Technology   \n",
       "1                dov charney redeeming quality       Business   \n",
       "2    white god adds un certain regard palm dog  Entertainment   \n",
       "3     google shows androids wearables cars tvs     Technology   \n",
       "4      china may new bank loans 870 8 bln yuan       Business   \n",
       "\n",
       "                                         News Title2  \\\n",
       "0  [google, rolls, stories, tricked, photo, playb...   \n",
       "1                 [dov, charney, redeeming, quality]   \n",
       "2  [white, god, adds, un, certain, regard, palm, ...   \n",
       "3    [google, shows, androids, wearables, cars, tvs]   \n",
       "4  [china, may, new, bank, loans, 870, 8, bln, yuan]   \n",
       "\n",
       "                                         News Title3  \\\n",
       "0       [googl, roll, stori, trick, photo, playback]   \n",
       "1                    [dov, charney, redeem, qualiti]   \n",
       "2  [white, god, add, un, certain, regard, palm, dog]   \n",
       "3           [googl, show, android, wearabl, car, tv]   \n",
       "4   [china, may, new, bank, loan, 870, 8, bln, yuan]   \n",
       "\n",
       "                                News Title4  Class3  \n",
       "0     googl roll stori trick photo playback       3  \n",
       "1                dov charney redeem qualiti       0  \n",
       "2  white god add un certain regard palm dog       1  \n",
       "3         googl show android wearabl car tv       3  \n",
       "4    china may new bank loan 870 8 bln yuan       0  "
      ]
     },
     "execution_count": 16,
     "metadata": {},
     "output_type": "execute_result"
    }
   ],
   "source": [
    "df.head(5)"
   ]
  },
  {
   "cell_type": "code",
   "execution_count": 17,
   "metadata": {},
   "outputs": [],
   "source": [
    "#Variable Input , output and number of neurons for ANN\n",
    "# Split Train and test 80-20 % ratio\n",
    "row_train_end = round(vectors_unigram.shape[0] * 0.8)\n",
    "row_test_end = vectors_unigram.shape[0]\n",
    "\n",
    "# Unigram\n",
    "input_unigram_training = vectors_unigram[0:row_train_end]                #80%\n",
    "output_unigram_training = output[0:row_train_end]                        #80%\n",
    "input_unigram_testing = vectors_unigram [row_train_end:row_test_end]     #20%\n",
    "output_unigram_testing = output[row_train_end:row_test_end]              #20%"
   ]
  },
  {
   "cell_type": "code",
   "execution_count": 18,
   "metadata": {},
   "outputs": [],
   "source": [
    "## SGD-based methods (Linear SVM)"
   ]
  },
  {
   "cell_type": "code",
   "execution_count": 19,
   "metadata": {},
   "outputs": [
    {
     "name": "stdout",
     "output_type": "stream",
     "text": [
      "accuracy 0.9110399023422598\n"
     ]
    }
   ],
   "source": [
    "from sklearn.metrics import accuracy_score\n",
    "from sklearn.linear_model import SGDClassifier\n",
    "from sklearn.feature_extraction.text import CountVectorizer\n",
    "from sklearn.feature_extraction.text import TfidfTransformer\n",
    "# from sklearn.pipeline import make_pipeline\n",
    "from sklearn.pipeline import Pipeline\n",
    "from sklearn import metrics\n",
    "\n",
    "\n",
    "sgd = SGDClassifier(random_state = 42)\n",
    "sgd.fit(input_unigram_training, output_unigram_training)\n",
    "sgdSVM_pred = sgd.predict(input_unigram_testing)\n",
    "\n",
    "print('accuracy %s' % accuracy_score(sgdSVM_pred, output_unigram_testing))"
   ]
  },
  {
   "cell_type": "code",
   "execution_count": 20,
   "metadata": {},
   "outputs": [],
   "source": [
    "## Confusion Matrix"
   ]
  },
  {
   "cell_type": "code",
   "execution_count": 21,
   "metadata": {},
   "outputs": [],
   "source": [
    "import matplotlib.pyplot as plt\n",
    "import seaborn as sns\n",
    "from sklearn.metrics import confusion_matrix\n",
    "\n",
    "def plot_cm(labels, predictions):\n",
    "  cm = confusion_matrix(labels, predictions)\n",
    "  plt.figure(figsize=(5,5))\n",
    "  sns.heatmap(cm, annot=True, fmt=\"d\")\n",
    "  plt.ylabel('Actual label')\n",
    "  plt.xlabel('Predicted label')"
   ]
  },
  {
   "cell_type": "code",
   "execution_count": 22,
   "metadata": {},
   "outputs": [
    {
     "data": {
      "image/png": "[encoded data removed]",
      "text/plain": [
       "<Figure size 360x360 with 2 Axes>"
      ]
     },
     "metadata": {
      "needs_background": "light"
     },
     "output_type": "display_data"
    }
   ],
   "source": [
    "plot_cm(output_unigram_testing, sgdSVM_pred)\n",
    "#Accuracy = 0.910\n",
    "\n",
    "#Label 0 \n",
    "#TP = 3125\n",
    "#FN = (146 + 29 + 259) = 434\n",
    "#FP = (63 + 93 + 197) = 353\n",
    "#TN = (4660 + 21 + 46 + 99 + 1172 +32+162+19+ 2984) = 9195\n",
    "#accuracy = 0.93\n",
    "\n",
    "#Label 1 \n",
    "#TP = 4660\n",
    "#FN = (63 + 21 + 46) = 130\n",
    "#FP = (146 + 99 + 162) = 407\n",
    "#TN = (3125 + 29 + 259 + 93 + 1172 + 32 + 197 + 19 + 2984) = 7910\n",
    "#accuracy = 0.95\n",
    "\n",
    "#Label 2 \n",
    "#TP = 1172\n",
    "#FN = (93 + 99 + 32) = 224\n",
    "#FP = (29 + 21 + 19) = 69\n",
    "#TN = (3125 + 146 + 259 + 63 + 4660 + 46 + 197 + 162 + 2984) = 11642\n",
    "#accuracy = 0.977\n",
    "\n",
    "#Label 3 \n",
    "#TP = 2984\n",
    "#FN = (197 + 162 + 19) = 378\n",
    "#FP = (259 + 46 + 32) = 337\n",
    "#TN = (3125 + 146 + 29 + 63 + 4660 + 21 + 93 + 99 + 1172) = 9408 \n",
    "#accuracy = 0.94\n"
   ]
  },
  {
   "cell_type": "code",
   "execution_count": 23,
   "metadata": {},
   "outputs": [
    {
     "name": "stdout",
     "output_type": "stream",
     "text": [
      "13107\n"
     ]
    }
   ],
   "source": [
    "print(output_unigram_testing.size)"
   ]
  },
  {
   "cell_type": "code",
   "execution_count": 24,
   "metadata": {},
   "outputs": [
    {
     "data": {
      "image/png": "[encoded data removed]",
      "text/plain": [
       "<Figure size 432x288 with 1 Axes>"
      ]
     },
     "metadata": {},
     "output_type": "display_data"
    }
   ],
   "source": [
    "import matplotlib.pyplot as plt\n",
    "from sklearn import svm, datasets\n",
    "from sklearn.model_selection import train_test_split\n",
    "from sklearn.preprocessing import label_binarize\n",
    "from sklearn.metrics import roc_curve, auc\n",
    "from sklearn.multiclass import OneVsRestClassifier\n",
    "from itertools import cycle\n",
    "plt.style.use('ggplot')\n",
    "\n",
    "\n",
    "X = vectors_unigram  \n",
    "\n",
    "\n",
    "# Binarize the output\n",
    "\n",
    "y = label_binarize(output, classes=[0, 1, 2, 3])\n",
    "\n",
    "n_classes = y.shape[1]\n",
    "\n",
    "X_train, X_test, y_train, y_test = train_test_split(X, y, test_size=.5, random_state=0)\n",
    "\n",
    "\n",
    "classifier = OneVsRestClassifier(SGDClassifier(random_state = 42))\n",
    "y_score = classifier.fit(X_train, y_train).decision_function(X_test)\n",
    "\n",
    "fpr = dict()\n",
    "tpr = dict()\n",
    "roc_auc = dict()\n",
    "\n",
    "for i in range(n_classes):\n",
    "    fpr[i], tpr[i], _ = roc_curve(y_test[:, i], y_score[:, i])\n",
    "#     fpr[i], tpr[i], _ = roc_curve(output_unigram_testing[:, i], sgdSVM_pred[:, i])\n",
    "    roc_auc[i] = auc(fpr[i], tpr[i])\n",
    "colors = cycle(['blue', 'red', 'green','black'])\n",
    "for i, color in zip(range(n_classes), colors):\n",
    "    plt.plot(fpr[i], tpr[i], color=color, lw=1.5,\n",
    "             label='ROC curve of class {0} (area = {1:0.2f})'\n",
    "             ''.format(i, roc_auc[i]))\n",
    "plt.plot([0, 1], [0, 1], 'k--', lw=1.5)\n",
    "plt.xlim([-0.05, 1.0])\n",
    "plt.ylim([0.0, 1.05])\n",
    "plt.xlabel('False Positive Rate')\n",
    "plt.ylabel('True Positive Rate')\n",
    "plt.title('Receiver operating characteristic for multi-class data')\n",
    "plt.legend(loc=\"lower right\")\n",
    "plt.show()"
   ]
  },
  {
   "cell_type": "code",
   "execution_count": 25,
   "metadata": {},
   "outputs": [
    {
     "name": "stdout",
     "output_type": "stream",
     "text": [
      "(13107,)\n",
      "(13107,)\n"
     ]
    }
   ],
   "source": [
    "print(output_unigram_testing.shape)\n",
    "print(sgdSVM_pred.shape)"
   ]
  },
  {
   "cell_type": "code",
   "execution_count": null,
   "metadata": {},
   "outputs": [],
   "source": []
  }
 ],
 "metadata": {
  "kernelspec": {
   "display_name": "Python 3",
   "language": "python",
   "name": "python3"
  },
  "language_info": {
   "codemirror_mode": {
    "name": "ipython",
    "version": 3
   },
   "file_extension": ".py",
   "mimetype": "text/x-python",
   "name": "python",
   "nbconvert_exporter": "python",
   "pygments_lexer": "ipython3",
   "version": "3.7.3"
  }
 },
 "nbformat": 4,
 "nbformat_minor": 4
}
